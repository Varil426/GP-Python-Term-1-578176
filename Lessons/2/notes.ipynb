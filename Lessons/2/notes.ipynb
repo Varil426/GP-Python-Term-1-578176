{
 "cells": [
  {
   "cell_type": "markdown",
   "id": "f511ccc2",
   "metadata": {},
   "source": [
    "# Zmienne"
   ]
  },
  {
   "cell_type": "markdown",
   "id": "66611e07",
   "metadata": {},
   "source": [
    "## Komentarze w Python'ie"
   ]
  },
  {
   "cell_type": "code",
   "execution_count": 25,
   "id": "717413e6",
   "metadata": {},
   "outputs": [
    {
     "data": {
      "text/plain": [
       "'\\nA to jest komentarz wielolinijkowy.\\nMogę kontynuować w nowej linii!\\n'"
      ]
     },
     "execution_count": 25,
     "metadata": {},
     "output_type": "execute_result"
    }
   ],
   "source": [
    "# To jest komentarz jednolinijkowy\n",
    "\n",
    "\"\"\"\n",
    "A to jest komentarz wielolinijkowy.\n",
    "Mogę kontynuować w nowej linii!\n",
    "\"\"\""
   ]
  },
  {
   "cell_type": "code",
   "execution_count": 26,
   "id": "c03fd436",
   "metadata": {},
   "outputs": [
    {
     "name": "stdout",
     "output_type": "stream",
     "text": [
      "Cześć!\n",
      "Giganci Programowania\n"
     ]
    }
   ],
   "source": [
    "print(\"Cześć!\")\n",
    "\n",
    "print(\"Giganci Programowania\")"
   ]
  },
  {
   "cell_type": "code",
   "execution_count": 27,
   "id": "412ec50d",
   "metadata": {},
   "outputs": [
    {
     "name": "stdout",
     "output_type": "stream",
     "text": [
      "Cześć!\n",
      "Giganci Programowania\n"
     ]
    }
   ],
   "source": [
    "# Korzystając z funkcji print, możemy wyświetlać tekst na ekranie\n",
    "print(\"Cześć!\")\n",
    "\n",
    "# Dodatkowo możemy zauważyć, że komentarze nie wpływają na działanie programu\n",
    "print(\"Giganci Programowania\")"
   ]
  },
  {
   "cell_type": "code",
   "execution_count": 28,
   "id": "17e58c6a",
   "metadata": {},
   "outputs": [
    {
     "name": "stdout",
     "output_type": "stream",
     "text": [
      "Witam Was na drugiach zajęciach z programowania\n"
     ]
    }
   ],
   "source": [
    "# TODO Czasami programiści zostawiają takie komentarze, żeby nie zapomnieć o czymś ważnym\n",
    "\n",
    "# TODO Napisać fragment kodu z komentarzami podczas zajęć!\n",
    "\n",
    "# W Pythonie teksty zapisujemy w \"\"\n",
    "print(\"Witam Was na drugiach zajęciach z programowania\")"
   ]
  },
  {
   "cell_type": "markdown",
   "id": "9c9c16c6",
   "metadata": {},
   "source": [
    "## Zmienne"
   ]
  },
  {
   "cell_type": "code",
   "execution_count": 29,
   "id": "ed4e22c8",
   "metadata": {},
   "outputs": [
    {
     "name": "stdout",
     "output_type": "stream",
     "text": [
      "Test\n",
      "64\n"
     ]
    }
   ],
   "source": [
    "moja_zmienna = \"Test\"\n",
    "\n",
    "print(moja_zmienna)\n",
    "\n",
    "moja_zmienna = 64\n",
    "\n",
    "print(moja_zmienna)"
   ]
  },
  {
   "cell_type": "markdown",
   "id": "9b4b6603",
   "metadata": {},
   "source": [
    "## Nazywanie zmiennych\n",
    "\n",
    "[Wiki](https://en.wikipedia.org/wiki/Naming_convention_(programming)#Examples_of_multiple-word_identifier_formats)"
   ]
  },
  {
   "cell_type": "code",
   "execution_count": 30,
   "id": "e3b8cb74",
   "metadata": {},
   "outputs": [],
   "source": [
    "cammelCase = \"Test\"\n",
    "\n",
    "PascalCase = \"Test\" # Czasami też nazywane UpperCamelCase\n",
    "\n",
    "snake_case = \"Test\"\n",
    "\n",
    "UPPERCASE = \"Test\"\n",
    "\n",
    "SCREAMING_SNAKE_CASE = \"Test\""
   ]
  },
  {
   "cell_type": "markdown",
   "id": "a339d97a",
   "metadata": {},
   "source": [
    "## Typy danych\n",
    "\n",
    "Funkcja `type` pozwala nam sprawdzić typ zmiennej."
   ]
  },
  {
   "cell_type": "code",
   "execution_count": 31,
   "id": "6022172d",
   "metadata": {},
   "outputs": [
    {
     "name": "stdout",
     "output_type": "stream",
     "text": [
      "Moja zmienna ma teraz wartość: 3, a jej typ to: <class 'int'>\n"
     ]
    }
   ],
   "source": [
    "moja_zmienna = 3\n",
    "print(f\"Moja zmienna ma teraz wartość: {moja_zmienna}, a jej typ to: {type(moja_zmienna)}\")"
   ]
  },
  {
   "cell_type": "code",
   "execution_count": 32,
   "id": "05e8e60f",
   "metadata": {},
   "outputs": [
    {
     "name": "stdout",
     "output_type": "stream",
     "text": [
      "Moja zmienna ma teraz wartość: 3.14, a jej typ to: <class 'float'>\n"
     ]
    }
   ],
   "source": [
    "moja_zmienna = 3.14\n",
    "print(f\"Moja zmienna ma teraz wartość: {moja_zmienna}, a jej typ to: {type(moja_zmienna)}\")"
   ]
  },
  {
   "cell_type": "code",
   "execution_count": 33,
   "id": "c652365a",
   "metadata": {},
   "outputs": [
    {
     "name": "stdout",
     "output_type": "stream",
     "text": [
      "Moja zmienna ma teraz wartość: Bartek! Uczę w \"Gigantach Programowania\", a jej typ to: <class 'str'>\n"
     ]
    }
   ],
   "source": [
    "moja_zmienna = 'Bartek! Uczę w \"Gigantach Programowania\"'\n",
    "print(f\"Moja zmienna ma teraz wartość: {moja_zmienna}, a jej typ to: {type(moja_zmienna)}\")"
   ]
  },
  {
   "cell_type": "code",
   "execution_count": 34,
   "id": "194aea84",
   "metadata": {},
   "outputs": [
    {
     "name": "stdout",
     "output_type": "stream",
     "text": [
      "<class 'bool'>\n",
      "<class 'bool'>\n",
      "<class 'int'>\n",
      "<class 'float'>\n",
      "<class 'str'>\n"
     ]
    }
   ],
   "source": [
    "# Typ logiczny - bool\n",
    "print(type(True))\n",
    "print(type(False))\n",
    "\n",
    "# Typy liczbowe - int i float\n",
    "print(type(1))\n",
    "print(type(1.0))\n",
    "\n",
    "# Typ tekstowy - str\n",
    "print(type(\"1\"))"
   ]
  },
  {
   "cell_type": "markdown",
   "id": "99882659",
   "metadata": {},
   "source": [
    "## Konwertowanie danych"
   ]
  },
  {
   "cell_type": "code",
   "execution_count": 35,
   "id": "e8303fe3",
   "metadata": {},
   "outputs": [
    {
     "name": "stdout",
     "output_type": "stream",
     "text": [
      "3 <class 'int'>\n",
      "1 <class 'int'>\n",
      "0 <class 'int'>\n",
      "10 <class 'int'>\n",
      "True <class 'bool'>\n",
      "False <class 'bool'>\n",
      "True <class 'bool'>\n",
      "True <class 'bool'>\n",
      "1.0 <class 'float'>\n",
      "1.0 <class 'float'>\n",
      "0.0 <class 'float'>\n",
      "21.4 <class 'float'>\n",
      "2.0 <class 'float'>\n",
      "16 <class 'str'>\n",
      "1.5 <class 'str'>\n",
      "True <class 'str'>\n",
      "False <class 'str'>\n"
     ]
    }
   ],
   "source": [
    "# Konwersja do typu int\n",
    "a = int(3.2)\n",
    "print(a, type(a))\n",
    "a = int(True)\n",
    "print(a, type(a))\n",
    "a = int(False)\n",
    "print(a, type(a))\n",
    "a = int('10')\n",
    "print(a, type(a))\n",
    "\n",
    "# Konwersja do typu bool\n",
    "c = bool(-1)\n",
    "print(c, type(c))\n",
    "c = bool(0)\n",
    "print(c, type(c))\n",
    "c = bool(1)\n",
    "print(c, type(c))\n",
    "c = bool(2)\n",
    "print(c, type(c))\n",
    "\n",
    "\n",
    "# Konwersja do typu float\n",
    "b = float(1)\n",
    "print(b, type(b))\n",
    "b = float(True)\n",
    "print(b, type(b))\n",
    "b = float(False)\n",
    "print(b, type(b))\n",
    "b = float('21.4')\n",
    "print(b, type(b))\n",
    "b = float('2')\n",
    "print(b, type(b))\n",
    "\n",
    "\n",
    "# Konwersja do typu str\n",
    "d = str(16)\n",
    "print(d, type(d))\n",
    "d = str(1.5)\n",
    "print(d, type(d))\n",
    "d = str(True)\n",
    "print(d, type(d))\n",
    "d = str(False)\n",
    "print(d, type(d))"
   ]
  },
  {
   "cell_type": "markdown",
   "id": "865bdff3",
   "metadata": {},
   "source": [
    "## Pobieranie danych od użytkownika"
   ]
  },
  {
   "cell_type": "code",
   "execution_count": 36,
   "id": "d82faa5b",
   "metadata": {},
   "outputs": [
    {
     "name": "stdout",
     "output_type": "stream",
     "text": [
      "15 <class 'str'>\n"
     ]
    }
   ],
   "source": [
    "wartosc_pobrana_od_uzytkownika = input(\"Podaj liczbę: \")\n",
    "\n",
    "print(wartosc_pobrana_od_uzytkownika, type(wartosc_pobrana_od_uzytkownika))"
   ]
  },
  {
   "cell_type": "code",
   "execution_count": 37,
   "id": "2b5f5283",
   "metadata": {},
   "outputs": [
    {
     "name": "stdout",
     "output_type": "stream",
     "text": [
      "15 <class 'int'>\n",
      "115\n"
     ]
    }
   ],
   "source": [
    "przekonwertowana_wartosc = int(wartosc_pobrana_od_uzytkownika)\n",
    "\n",
    "print(przekonwertowana_wartosc, type(przekonwertowana_wartosc))\n",
    "print(przekonwertowana_wartosc + 100)"
   ]
  },
  {
   "cell_type": "code",
   "execution_count": 38,
   "id": "b7cc19ae",
   "metadata": {},
   "outputs": [
    {
     "name": "stdout",
     "output_type": "stream",
     "text": [
      "Źle podałeś, to nie liczba!\n"
     ]
    }
   ],
   "source": [
    "x = input('Podaj liczbę: ')\n",
    "\n",
    "try:\n",
    "    x = int(x)\n",
    "    print('Super, udało się!')\n",
    "except:\n",
    "    print(\"Źle podałeś, to nie liczba!\")"
   ]
  }
 ],
 "metadata": {
  "kernelspec": {
   "display_name": "Python 3",
   "language": "python",
   "name": "python3"
  },
  "language_info": {
   "codemirror_mode": {
    "name": "ipython",
    "version": 3
   },
   "file_extension": ".py",
   "mimetype": "text/x-python",
   "name": "python",
   "nbconvert_exporter": "python",
   "pygments_lexer": "ipython3",
   "version": "3.13.3"
  }
 },
 "nbformat": 4,
 "nbformat_minor": 5
}
