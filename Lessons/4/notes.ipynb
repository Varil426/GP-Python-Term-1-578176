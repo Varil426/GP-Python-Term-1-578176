{
 "cells": [
  {
   "cell_type": "markdown",
   "id": "3dac52c0",
   "metadata": {},
   "source": [
    "# Operatory Relacyjne i Logiczne\n",
    "\n",
    "## Działania logiczne\n",
    "\n",
    "| Działanie logiczne. Może być **prawdziwe** lub **fałszywe** | Pytania zawierające działanie logiczne. Możliwe odpowiedzi: **tak** lub **nie**|\n",
    "|--------------------------------------------|-------------------------------------------------------|\n",
    "| Minęła godzina 20:00.                      | Czy minęła godzina 20:00?                             |\n",
    "| Dziś jest piątek.                          | Czy dziś jest piątek?                                 |\n",
    "| Osoba po mojej lewej stronie ma takie samo imię jak ja. | Czy osoba po mojej lewej stronie ma takie samo imię jak ja? |\n",
    "\n",
    "## Wartości logiczne - `True` i `False`"
   ]
  },
  {
   "cell_type": "code",
   "execution_count": null,
   "id": "7e044759",
   "metadata": {},
   "outputs": [],
   "source": [
    "True # Prawda\n",
    "False # Fałsz\n",
    "\n",
    "pass"
   ]
  },
  {
   "cell_type": "markdown",
   "id": "5a095bf0",
   "metadata": {},
   "source": [
    "## Operatory relacyjne"
   ]
  },
  {
   "cell_type": "code",
   "execution_count": null,
   "id": "8f42d21f",
   "metadata": {},
   "outputs": [],
   "source": [
    "print(250 > 42.01)\n",
    "print(490 <= 450)\n",
    "print(24 == 12)\n",
    "print(40 != 23)\n",
    "print(40 > 40)\n",
    "print(99 < 98.5)"
   ]
  },
  {
   "cell_type": "markdown",
   "id": "e88472db",
   "metadata": {},
   "source": [
    "### Czy mogę przejechać się kolejką, jeżeli...\n",
    "\n",
    "Mój wzrost to _. Na kolejkę wpuszcza się osoby wyższe niż 150 cm.\n",
    "- 115 cm,\n",
    "- 149 cm,\n",
    "- 150 cm,\n",
    "- 151 cm,\n",
    "- 210 cm."
   ]
  },
  {
   "cell_type": "markdown",
   "id": "b17fc5d4",
   "metadata": {},
   "source": [
    "## Działania logiczne\n",
    "\n",
    "### Tabele prawdy dla operatorów logicznych\n",
    "\n",
    "#### Operator `not`\n",
    "\n",
    "| A | not A |\n",
    "|---------|-------|\n",
    "| True    | False |\n",
    "| False   | True  |\n",
    "\n",
    "#### Operator `and`\n",
    "\n",
    "| A     | B     | A and B |\n",
    "|-------|-------|---------|\n",
    "| True  | True  | True    |\n",
    "| True  | False | False   |\n",
    "| False | True  | False   |\n",
    "| False | False | False   |\n",
    "\n",
    "#### Operator `or`\n",
    "\n",
    "| A     | B     | A or B  |\n",
    "|-------|-------|---------|\n",
    "| True  | True  | True    |\n",
    "| True  | False | True    |\n",
    "| False | True  | True    |\n",
    "| False | False | False   |\n",
    "\n",
    "### `not`"
   ]
  },
  {
   "cell_type": "code",
   "execution_count": null,
   "id": "2ce8ba7a",
   "metadata": {},
   "outputs": [],
   "source": [
    "print(not True)\n",
    "print(not False)"
   ]
  },
  {
   "cell_type": "code",
   "execution_count": null,
   "id": "f6cb1bac",
   "metadata": {},
   "outputs": [],
   "source": [
    "print(not 250 > 42.01)"
   ]
  },
  {
   "cell_type": "markdown",
   "id": "72d59552",
   "metadata": {},
   "source": [
    "### `and`"
   ]
  },
  {
   "cell_type": "code",
   "execution_count": null,
   "id": "bf3156f7",
   "metadata": {},
   "outputs": [],
   "source": [
    "print(True and True)\n",
    "print(True and False)\n",
    "print(False and False)"
   ]
  },
  {
   "cell_type": "code",
   "execution_count": null,
   "id": "f047b4b9",
   "metadata": {},
   "outputs": [],
   "source": [
    "print(20 < 25 and 24 == 0)"
   ]
  },
  {
   "cell_type": "code",
   "execution_count": null,
   "id": "40199d06",
   "metadata": {},
   "outputs": [],
   "source": [
    "print(4 != 4.0 and 2 <= 0)"
   ]
  },
  {
   "cell_type": "code",
   "execution_count": null,
   "id": "e7266689",
   "metadata": {},
   "outputs": [],
   "source": [
    "print(2 < 5 and 50 != 50.001)"
   ]
  },
  {
   "cell_type": "markdown",
   "id": "1e59eee5",
   "metadata": {},
   "source": [
    "### `or`"
   ]
  },
  {
   "cell_type": "code",
   "execution_count": null,
   "id": "51332cbf",
   "metadata": {},
   "outputs": [],
   "source": [
    "print(True or True)\n",
    "print(True or False)\n",
    "print(False or False)"
   ]
  },
  {
   "cell_type": "code",
   "execution_count": null,
   "id": "e87cbd50",
   "metadata": {},
   "outputs": [],
   "source": [
    "print(20 < 25 or 24 == 0)"
   ]
  },
  {
   "cell_type": "code",
   "execution_count": null,
   "id": "bd64af3a",
   "metadata": {},
   "outputs": [],
   "source": [
    "print(4 != 4.0 or 2 <= 0)"
   ]
  },
  {
   "cell_type": "code",
   "execution_count": null,
   "id": "aa0ce858",
   "metadata": {},
   "outputs": [],
   "source": [
    "print(2 < 5 or 50 != 50.001)"
   ]
  },
  {
   "cell_type": "markdown",
   "id": "9534e982",
   "metadata": {},
   "source": [
    "### Ciekawostka: Chaining comparison operators"
   ]
  },
  {
   "cell_type": "code",
   "execution_count": null,
   "id": "9689d988",
   "metadata": {},
   "outputs": [],
   "source": [
    "a = 1\n",
    "b = 2\n",
    "c = 3\n",
    "\n",
    "rezultat = a < b < c # to samo co `(a < b) and (b < c)`\n",
    "print(rezultat)"
   ]
  },
  {
   "cell_type": "markdown",
   "id": "93c97a6e",
   "metadata": {},
   "source": [
    "### Złożone działania logiczne - kolejnośc wykonywania działań\n",
    "\n",
    "Tak samo jak w przypadku `*` i `+`, w przypadku operatorów logicznych występuje kolejność działań.\n",
    "\n",
    "Priorytet:\n",
    "1. `not`\n",
    "2. `and`\n",
    "3. `or`\n",
    "\n",
    "Kolejność możemy zmienić korzystając z nawiasów `()`."
   ]
  },
  {
   "cell_type": "code",
   "execution_count": null,
   "id": "c5ba77c2",
   "metadata": {},
   "outputs": [],
   "source": [
    "print(False, not (10 < 10 or 20 <= 20) )\n",
    "print(True, not 10 < 10 or 20 <= 20)"
   ]
  }
 ],
 "metadata": {
  "kernelspec": {
   "display_name": "Python 3",
   "language": "python",
   "name": "python3"
  },
  "language_info": {
   "codemirror_mode": {
    "name": "ipython",
    "version": 3
   },
   "file_extension": ".py",
   "mimetype": "text/x-python",
   "name": "python",
   "nbconvert_exporter": "python",
   "pygments_lexer": "ipython3",
   "version": "3.12.1"
  }
 },
 "nbformat": 4,
 "nbformat_minor": 5
}
