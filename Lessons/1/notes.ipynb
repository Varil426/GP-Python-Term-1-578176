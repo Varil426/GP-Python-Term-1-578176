{
 "cells": [
  {
   "cell_type": "markdown",
   "id": "20a85360",
   "metadata": {},
   "source": [
    "# Wstęp do Python'a"
   ]
  },
  {
   "cell_type": "code",
   "execution_count": 1,
   "id": "cb85a794",
   "metadata": {},
   "outputs": [
    {
     "name": "stdout",
     "output_type": "stream",
     "text": [
      "Hej, witam Was serdecznie!\n"
     ]
    }
   ],
   "source": [
    "print(\"Hej, witam Was serdecznie!\")"
   ]
  },
  {
   "cell_type": "code",
   "execution_count": 2,
   "id": "3ca3315c",
   "metadata": {},
   "outputs": [
    {
     "name": "stdout",
     "output_type": "stream",
     "text": [
      "Cześć, jestem Python :D\n",
      "A Ty jak masz na imię?\n",
      "Cześć Bartek miło Cię poznać!\n",
      "Cześć Bartek miło Cię poznać!\n"
     ]
    }
   ],
   "source": [
    "print(\"Cześć, jestem Python :D\")\n",
    "print(\"A Ty jak masz na imię?\")\n",
    "imie = input()\n",
    "print(\"Cześć\", imie, \"miło Cię poznać!\")\n",
    "print(f\"Cześć {imie} miło Cię poznać!\")"
   ]
  }
 ],
 "metadata": {
  "kernelspec": {
   "display_name": "Python 3",
   "language": "python",
   "name": "python3"
  },
  "language_info": {
   "codemirror_mode": {
    "name": "ipython",
    "version": 3
   },
   "file_extension": ".py",
   "mimetype": "text/x-python",
   "name": "python",
   "nbconvert_exporter": "python",
   "pygments_lexer": "ipython3",
   "version": "3.13.3"
  }
 },
 "nbformat": 4,
 "nbformat_minor": 5
}
