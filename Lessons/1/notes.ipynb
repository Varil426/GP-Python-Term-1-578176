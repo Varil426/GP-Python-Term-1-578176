{
 "cells": [
  {
   "cell_type": "markdown",
   "id": "20a85360",
   "metadata": {},
   "source": [
    "# Wstęp do Python'a"
   ]
  },
  {
   "cell_type": "code",
   "execution_count": null,
   "id": "cb85a794",
   "metadata": {},
   "outputs": [],
   "source": [
    "print(\"Hej, witam Was serdecznie!\")"
   ]
  },
  {
   "cell_type": "code",
   "execution_count": null,
   "id": "3ca3315c",
   "metadata": {},
   "outputs": [],
   "source": [
    "print(\"Cześć, jestem Python :D\")\n",
    "print(\"A Ty jak masz na imię?\")\n",
    "imie = input()\n",
    "print(\"Cześć\", imie, \"miło Cię poznać!\")\n",
    "print(f\"Cześć {imie} miło Cię poznać!\")"
   ]
  }
 ],
 "metadata": {
  "language_info": {
   "name": "python"
  }
 },
 "nbformat": 4,
 "nbformat_minor": 5
}
