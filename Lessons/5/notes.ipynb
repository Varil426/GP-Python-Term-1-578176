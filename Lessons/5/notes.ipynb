{
 "cells": [
  {
   "cell_type": "markdown",
   "id": "a773f19e",
   "metadata": {},
   "source": [
    "# Instrukcje warunkowe\n",
    "\n",
    "## Jak podejmujemy decyzje?\n",
    "\n",
    "Czy telefon jest już naładowany?\n",
    "\n",
    "`min_akceptowalny_poziom_baterii <= obecny_poziom_baterii <= max_akcpetowalny_poziom_baterii`\n",
    "\n",
    "Tak - prawda: możesz dalej korzystać z telefonu.\n",
    "Nie - fałsz: podłącz telefon do ładowarki.\n",
    "\n",
    "Czy za oknem pada deszcz?\n",
    "\n",
    "`pogoda_za_oknem == \"deszcz\"`\n",
    "\n",
    "Tak - prawda: weź parasol.\n",
    "Nie - fałsz: nie bierz parasola / pomiń tę czynność.\n",
    "\n",
    "# Kontrukcja `if`"
   ]
  },
  {
   "cell_type": "code",
   "execution_count": null,
   "id": "ff0d8a5e",
   "metadata": {},
   "outputs": [],
   "source": [
    "warunek = True\n",
    "\n",
    "if warunek:\n",
    "    # Kod, który wykona się tylko wtedy kiedy warunek jest prawdziwy\n",
    "    print(\"Warunek był prawdziwy :)\")"
   ]
  },
  {
   "cell_type": "code",
   "execution_count": null,
   "id": "aca7d679",
   "metadata": {},
   "outputs": [],
   "source": [
    "print(\"Wykonam się za każdym razem\")\n",
    "\n",
    "wartosc_logiczna = True # False\n",
    "\n",
    "if wartosc_logiczna:\n",
    "    print(\"Wykonam się, jeśli warunek będzie prawdziwy\")\n",
    "    print(\"Mogę dodać wiele linijek kodu\")\n",
    "\n",
    "print(\"Wykonam się za każdym razem, brak wcięcia\")"
   ]
  },
  {
   "cell_type": "markdown",
   "id": "493c7783",
   "metadata": {},
   "source": [
    "## Konstrukcja `if else`"
   ]
  },
  {
   "cell_type": "code",
   "execution_count": null,
   "id": "b2c08124",
   "metadata": {},
   "outputs": [],
   "source": [
    "warunek = True\n",
    "\n",
    "if warunek:\n",
    "    # Nasz kod wykonywany, jeśli warunek jest prawdziwy\n",
    "    pass\n",
    "else:\n",
    "    # Nasz kod wykonywany, jeśli poprzednie warunki nie zostały spełnione\n",
    "    pass"
   ]
  },
  {
   "cell_type": "code",
   "execution_count": null,
   "id": "ae40df3d",
   "metadata": {},
   "outputs": [],
   "source": [
    "dzielna = int(input(\"Wprowadź dzielną: \"))\n",
    "dzielnik = int(input(\"Wprowadź dzielnik: \"))\n",
    "\n",
    "if dzielnik != 0:\n",
    "    wynik = dzielna / dzielnik\n",
    "    print(f\"Wynik z dzielenia: {wynik}\")\n",
    "else:\n",
    "    print(\"Nie wolno dzielić przez zero!\")"
   ]
  },
  {
   "cell_type": "markdown",
   "id": "6a61bf32",
   "metadata": {},
   "source": [
    "## Konstrukcja `if elif else`"
   ]
  },
  {
   "cell_type": "code",
   "execution_count": null,
   "id": "9bd36465",
   "metadata": {},
   "outputs": [],
   "source": [
    "warunek1 = False\n",
    "warunek2 = True\n",
    "\n",
    "if warunek1:\n",
    "    # Nasz kod wykonywany, jeśli warunek1 jest prawdziwy\n",
    "    pass\n",
    "elif warunek2:\n",
    "    # Kod wykonywany tylko wtedy jeśli poprzednie warunki nie zostały spełnione\n",
    "    # oraz warunek2 został spełniony\n",
    "    pass\n",
    "else:\n",
    "    # Kod wykonywany, jeśli poprzednie warunki nie zostały spełnione.\n",
    "    pass"
   ]
  },
  {
   "cell_type": "code",
   "execution_count": null,
   "id": "3d732d44",
   "metadata": {},
   "outputs": [],
   "source": [
    "warunek1 = False\n",
    "warunek2 = False\n",
    "warunek3 = True\n",
    "\n",
    "if warunek1:\n",
    "    # Nasz kod wykonywany, jeśli warunek1 jest prawdziwy\n",
    "    pass\n",
    "elif warunek2:\n",
    "    # Kod wykonywany tylko wtedy jeśli poprzednie warunki nie zostały spełnione\n",
    "    # oraz warunek2 został spełniony\n",
    "    pass\n",
    "elif warunek3:\n",
    "    # Kod wykonywany tylko wtedy jeśli poprzednie warunki nie zostały spełnione\n",
    "    # oraz warunek3 został spełniony\n",
    "    pass\n",
    "else:\n",
    "    # Kod wykonywany, jeśli poprzednie warunki nie zostały spełnione.\n",
    "    pass"
   ]
  },
  {
   "cell_type": "markdown",
   "id": "df6a3653",
   "metadata": {},
   "source": [
    "## Konstrukcja `match case`"
   ]
  },
  {
   "cell_type": "code",
   "execution_count": null,
   "id": "f6663e04",
   "metadata": {},
   "outputs": [],
   "source": [
    "wartosc = \"Hello, World!\"\n",
    "\n",
    "match wartosc:\n",
    "    case \"Hello, World!\":\n",
    "        # kod do wykonania, jeśli wartość pasuje do pierwszego wzorca\n",
    "        pass\n",
    "    case \"Goodbye, World!\":\n",
    "        # kod do wykonania, jeśli wartość pasuje do drugiego wzorca\n",
    "        pass\n",
    "    case _:\n",
    "        # kod domyślny (jak \"default\" w switch)\n",
    "        pass"
   ]
  }
 ],
 "metadata": {
  "kernelspec": {
   "display_name": "Python 3",
   "language": "python",
   "name": "python3"
  },
  "language_info": {
   "codemirror_mode": {
    "name": "ipython",
    "version": 3
   },
   "file_extension": ".py",
   "mimetype": "text/x-python",
   "name": "python",
   "nbconvert_exporter": "python",
   "pygments_lexer": "ipython3",
   "version": "3.13.3"
  }
 },
 "nbformat": 4,
 "nbformat_minor": 5
}
