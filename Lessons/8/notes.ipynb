{
 "cells": [
  {
   "cell_type": "markdown",
   "id": "dbc46819",
   "metadata": {},
   "source": [
    "# Pętle 2/2"
   ]
  },
  {
   "cell_type": "markdown",
   "id": "b4fba364",
   "metadata": {},
   "source": [
    "## Pętla `for` i funkcja `range`"
   ]
  },
  {
   "cell_type": "code",
   "execution_count": null,
   "id": "4950680d",
   "metadata": {},
   "outputs": [],
   "source": [
    "object = [\"a\", 1, 2.5, True, None]\n",
    "\n",
    "for item in object:\n",
    "    print(item)"
   ]
  },
  {
   "cell_type": "code",
   "execution_count": null,
   "id": "199cb943",
   "metadata": {},
   "outputs": [],
   "source": [
    "for number in range(10):\n",
    "    print(number)"
   ]
  },
  {
   "cell_type": "code",
   "execution_count": null,
   "id": "1f0afc01",
   "metadata": {},
   "outputs": [],
   "source": [
    "# Jeden argument\n",
    "range(6) # 0, 1, 2, 3, 4, 5\n",
    "\n",
    "# Dwa argumenty - start i stop\n",
    "range(2, 6) # 2, 3, 4, 5\n",
    "\n",
    "# Trzy argumenty - start, stop, krok\n",
    "range(2, 10, 2) # 2, 4, 6, 8"
   ]
  },
  {
   "cell_type": "code",
   "execution_count": null,
   "id": "19cfde91",
   "metadata": {},
   "outputs": [],
   "source": [
    "# Jakie będą wartości w tej pętli?\n",
    "\n",
    "print(\"Pętla numer 1:\")\n",
    "for i in range(7):\n",
    "    print(i)\n",
    "\n",
    "print(\"\\nPętla numer 2:\")\n",
    "for i in range(26, 43):\n",
    "    print(i)\n",
    "\n",
    "print(\"\\nPętla numer 3:\")\n",
    "for i in range(10, 100, 10):\n",
    "    print(i)\n",
    "\n",
    "print(\"\\nPętla numer 4:\")\n",
    "for i in range(100, -20, -10):\n",
    "    print(i)"
   ]
  },
  {
   "cell_type": "markdown",
   "id": "8688720c",
   "metadata": {},
   "source": [
    "## Zagnieżdżenia"
   ]
  },
  {
   "cell_type": "code",
   "execution_count": null,
   "id": "d878f5c8",
   "metadata": {},
   "outputs": [],
   "source": [
    "for a in range(5):\n",
    "    print(f\"a = {a}\")\n",
    "    for b in range(20, 70, 10):\n",
    "        print(f\"\\tb = {b}\")\n",
    "    print(\"Hej, ja się wykonuję w każdej iteracji pętli a!\")\n"
   ]
  },
  {
   "cell_type": "markdown",
   "id": "ce2d2d16",
   "metadata": {},
   "source": [
    "## `else` dla pętli"
   ]
  },
  {
   "cell_type": "code",
   "execution_count": null,
   "id": "64861952",
   "metadata": {},
   "outputs": [],
   "source": [
    "value = int(input(\"Podaj liczbę: \"))\n",
    "\n",
    "for a in range(value):\n",
    "    print(f\"a = {a}\")\n",
    "    if a > 4:\n",
    "        break\n",
    "else:\n",
    "    print(\"Pętla `for` wykonała się bez instrukcji `break`\")"
   ]
  },
  {
   "cell_type": "code",
   "execution_count": null,
   "id": "c025e6a4",
   "metadata": {},
   "outputs": [],
   "source": [
    "value = int(input(\"Podaj liczbę: \"))\n",
    "\n",
    "a = 0\n",
    "while a in range(value):\n",
    "    print(f\"a = {a}\")\n",
    "    if a > 4:\n",
    "        break\n",
    "    a += 1\n",
    "else:\n",
    "    print(\"Pętla `while` wykonała się bez instrukcji `break`\")"
   ]
  }
 ],
 "metadata": {
  "kernelspec": {
   "display_name": "Python 3",
   "language": "python",
   "name": "python3"
  },
  "language_info": {
   "codemirror_mode": {
    "name": "ipython",
    "version": 3
   },
   "file_extension": ".py",
   "mimetype": "text/x-python",
   "name": "python",
   "nbconvert_exporter": "python",
   "pygments_lexer": "ipython3",
   "version": "3.13.3"
  }
 },
 "nbformat": 4,
 "nbformat_minor": 5
}
