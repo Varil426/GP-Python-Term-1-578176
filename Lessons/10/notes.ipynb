{
 "cells": [
  {
   "cell_type": "markdown",
   "id": "fd0d2e05",
   "metadata": {},
   "source": [
    "# Funkcje 1/2"
   ]
  },
  {
   "cell_type": "markdown",
   "id": "affd8b45",
   "metadata": {},
   "source": [
    "## Moja pierwsza funkcja"
   ]
  },
  {
   "cell_type": "code",
   "execution_count": 9,
   "id": "b7d42fee",
   "metadata": {},
   "outputs": [],
   "source": [
    "def powitanie():\n",
    "    print(\"Witaj w moim programie!\")"
   ]
  },
  {
   "cell_type": "code",
   "execution_count": null,
   "id": "d7a90eb9",
   "metadata": {},
   "outputs": [
    {
     "name": "stdout",
     "output_type": "stream",
     "text": [
      "Witaj w moim programie!\n"
     ]
    }
   ],
   "source": [
    "powitanie()"
   ]
  },
  {
   "cell_type": "markdown",
   "id": "46e4fe1d",
   "metadata": {},
   "source": [
    "## Funkcje i ich argumenty"
   ]
  },
  {
   "cell_type": "code",
   "execution_count": 11,
   "id": "de49781a",
   "metadata": {},
   "outputs": [],
   "source": [
    "def powitanie_imie(imie):\n",
    "    print(f\"Hej {imie}! Witaj w moim programie!\")"
   ]
  },
  {
   "cell_type": "code",
   "execution_count": 13,
   "id": "6cb2b7b0",
   "metadata": {},
   "outputs": [
    {
     "name": "stdout",
     "output_type": "stream",
     "text": [
      "Hej Michał! Witaj w moim programie!\n",
      "Hej Łukasz! Witaj w moim programie!\n"
     ]
    }
   ],
   "source": [
    "# Miejsce na wywołanie funkcji powitanie_imie\n",
    "\n",
    "# Argument przekazany bezpośrednio\n",
    "powitanie_imie(\"Michał\")\n",
    "\n",
    "# Argument przekazany przez zmienną\n",
    "x = \"Łukasz\"\n",
    "powitanie_imie(x)"
   ]
  },
  {
   "cell_type": "code",
   "execution_count": 16,
   "id": "0cb7d3c5",
   "metadata": {},
   "outputs": [],
   "source": [
    "def powitanie_z_powtorzeniami(imie, powtorzenia):\n",
    "    for _ in range(powtorzenia):\n",
    "        # print(f\"Hej {imie}! Witaj w moim programie!\")\n",
    "        # Możemy też wywołać inną funckję w naszej nowej funkcji\n",
    "        powitanie_imie(imie)"
   ]
  },
  {
   "cell_type": "code",
   "execution_count": 17,
   "id": "3c891182",
   "metadata": {},
   "outputs": [
    {
     "name": "stdout",
     "output_type": "stream",
     "text": [
      "Hej Wojtek! Witaj w moim programie!\n",
      "Hej Wojtek! Witaj w moim programie!\n"
     ]
    }
   ],
   "source": [
    "# Miejsce na wywołanie funkcji powitanie_z_powtorzeniami\n",
    "powitanie_z_powtorzeniami(\"Wojtek\", 2)"
   ]
  },
  {
   "cell_type": "markdown",
   "id": "b7d57bae",
   "metadata": {},
   "source": [
    "## Argumenty i ich wartości domyślne"
   ]
  },
  {
   "cell_type": "code",
   "execution_count": 22,
   "id": "d16adf7a",
   "metadata": {},
   "outputs": [
    {
     "name": "stdout",
     "output_type": "stream",
     "text": [
      "[##########]  "
     ]
    }
   ],
   "source": [
    "import time\n",
    "\n",
    "def pasek_ladowania(gotowe, wszystko=100):\n",
    "    # Znak '#' oznacza wykonaną część\n",
    "    # Znak '-' oznacza niewykonaną część\n",
    "    # Zmiana skali postępu z 'wszystko' na 10\n",
    "    wykonane = round(10 * gotowe / wszystko)\n",
    "    niewykonane = 10 - wykonane\n",
    "    # Obliczenie ile znakow ma sie pojawic\n",
    "    tekst_wykonane = '#' * wykonane\n",
    "    tekst_niewykonane = '-' * niewykonane\n",
    "    # [####------]\n",
    "    print(f'\\r[{tekst_wykonane}{tekst_niewykonane}] ', end=' ')\n",
    "\n",
    "for i in range(100):\n",
    "    # pasek_ladowania(i, 200)\n",
    "    pasek_ladowania(i)\n",
    "    time.sleep(0.1)"
   ]
  },
  {
   "cell_type": "markdown",
   "id": "71c03c61",
   "metadata": {},
   "source": [
    "## Różne sposoby przekazywanie wartości do funkcji"
   ]
  },
  {
   "cell_type": "code",
   "execution_count": 23,
   "id": "d3e2c99e",
   "metadata": {},
   "outputs": [
    {
     "name": "stdout",
     "output_type": "stream",
     "text": [
      "[##--------]  "
     ]
    }
   ],
   "source": [
    "pasek_ladowania(gotowe=50, wszystko=200)"
   ]
  },
  {
   "cell_type": "code",
   "execution_count": 24,
   "id": "b7112b10",
   "metadata": {},
   "outputs": [
    {
     "name": "stdout",
     "output_type": "stream",
     "text": [
      "[##--------]  "
     ]
    }
   ],
   "source": [
    "pasek_ladowania(wszystko=200, gotowe=50)"
   ]
  },
  {
   "cell_type": "code",
   "execution_count": 25,
   "id": "aed94ecd",
   "metadata": {},
   "outputs": [
    {
     "name": "stdout",
     "output_type": "stream",
     "text": [
      "[##--------]  "
     ]
    }
   ],
   "source": [
    "pasek_ladowania(50, wszystko=200)"
   ]
  },
  {
   "cell_type": "markdown",
   "id": "f433fed4",
   "metadata": {},
   "source": [
    "## Funkcje i wartości zwracane"
   ]
  },
  {
   "cell_type": "code",
   "execution_count": null,
   "id": "c193ab43",
   "metadata": {},
   "outputs": [
    {
     "name": "stdout",
     "output_type": "stream",
     "text": [
      "10.392304845413264\n"
     ]
    }
   ],
   "source": [
    "from math import sqrt\n",
    "\n",
    "def pole_szesciokota_foremnego(a):\n",
    "    # wynik = 3 * sqrt(3) * a ** 2 / 2\n",
    "    # return wynik\n",
    "\n",
    "    return 3 * sqrt(3) * a ** 2 / 2\n",
    "\n",
    "pole = pole_szesciokota_foremnego(2)\n",
    "\n",
    "print(pole)"
   ]
  }
 ],
 "metadata": {
  "kernelspec": {
   "display_name": "Python 3",
   "language": "python",
   "name": "python3"
  },
  "language_info": {
   "codemirror_mode": {
    "name": "ipython",
    "version": 3
   },
   "file_extension": ".py",
   "mimetype": "text/x-python",
   "name": "python",
   "nbconvert_exporter": "python",
   "pygments_lexer": "ipython3",
   "version": "3.13.3"
  }
 },
 "nbformat": 4,
 "nbformat_minor": 5
}
