{
 "cells": [
  {
   "cell_type": "markdown",
   "id": "5c54f546",
   "metadata": {},
   "source": [
    "# Instrukcje warunkowe 2/2\n",
    "\n",
    "## Warunki złożone\n",
    "\n",
    "### Przykład warunku prostego"
   ]
  },
  {
   "cell_type": "code",
   "execution_count": null,
   "id": "1072254f",
   "metadata": {},
   "outputs": [],
   "source": [
    "wprowadzone_haslo = input(\"Podaj hasło: \")\n",
    "\n",
    "poprawnosc_hasla = \"Maslo\" == wprowadzone_haslo\n",
    "\n",
    "if poprawnosc_hasla:\n",
    "    print(\"Hasło poprawne!\")\n",
    "else:\n",
    "    print(\"Hasło niepoprawne!\")"
   ]
  },
  {
   "cell_type": "markdown",
   "id": "255a8df9",
   "metadata": {},
   "source": [
    "### Przykład warunku złożonego"
   ]
  },
  {
   "cell_type": "code",
   "execution_count": null,
   "id": "90bdb4ee",
   "metadata": {},
   "outputs": [],
   "source": [
    "a = 20\n",
    "b = 5\n",
    "c = -1\n",
    "z = 50\n",
    "\n",
    "if a == 20 or b < 10 and c > -5 and ... or 20 < z < 120:\n",
    "    # Kod wykonywany jeśli powyższy warunek został spełniony\n",
    "    print(\"Warunek złożony jest prawdziwy\")"
   ]
  },
  {
   "cell_type": "markdown",
   "id": "a971a4d0",
   "metadata": {},
   "source": [
    "### `\"substring\" in \"string\"`"
   ]
  },
  {
   "cell_type": "code",
   "execution_count": null,
   "id": "337b421a",
   "metadata": {},
   "outputs": [],
   "source": [
    "print(\"s\" in \"string\")  # True\n",
    "print(\"S\" in \"string\")  # False"
   ]
  },
  {
   "cell_type": "markdown",
   "id": "9cfcdef9",
   "metadata": {},
   "source": [
    "## Warunki zagnieżdżone"
   ]
  },
  {
   "cell_type": "code",
   "execution_count": null,
   "id": "9fd3a0f9",
   "metadata": {},
   "outputs": [],
   "source": [
    "warunek1 = True\n",
    "warunek2 = False\n",
    "warunek3 = True\n",
    "\n",
    "if warunek1:\n",
    "    if warunek2:\n",
    "        # Kod wykonywany tylko wtedy jeśli warunek1==True and warunek2==True\n",
    "        print(\"Warunek 1 i 2 są prawdziwe\")\n",
    "    elif warunek3:\n",
    "        # Kod wykonywany tylko wtedy jeśli warunek1==True and warunek3==True\n",
    "        print(\"Warunek 1 i 3 są prawdziwe\")\n",
    "    else:\n",
    "        # Kod wykonywany tylko wtedy jeśli warunek1==True, a pozostałe warunki==False\n",
    "        print(\"Tylko warunek 1 jest prawdziwy\")\n",
    "else:\n",
    "    # Kod wykonywany tylko wtedy jeśli warunek1==False\n",
    "    print(\"Warunek 1 jest fałszywy\")"
   ]
  }
 ],
 "metadata": {
  "kernelspec": {
   "display_name": "Python 3",
   "language": "python",
   "name": "python3"
  },
  "language_info": {
   "codemirror_mode": {
    "name": "ipython",
    "version": 3
   },
   "file_extension": ".py",
   "mimetype": "text/x-python",
   "name": "python",
   "nbconvert_exporter": "python",
   "pygments_lexer": "ipython3",
   "version": "3.13.4"
  }
 },
 "nbformat": 4,
 "nbformat_minor": 5
}
