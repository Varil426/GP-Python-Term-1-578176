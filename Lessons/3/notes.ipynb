{
 "cells": [
  {
   "cell_type": "markdown",
   "id": "8769e16b",
   "metadata": {},
   "source": [
    "# Operacja i Funkcje Matematyczne\n",
    "\n",
    "## Pobieranie wartości od użytkownika"
   ]
  },
  {
   "cell_type": "code",
   "execution_count": 6,
   "id": "4ef04591",
   "metadata": {},
   "outputs": [
    {
     "data": {
      "text/plain": [
       "'123'"
      ]
     },
     "execution_count": 6,
     "metadata": {},
     "output_type": "execute_result"
    }
   ],
   "source": [
    "input()"
   ]
  },
  {
   "cell_type": "code",
   "execution_count": null,
   "id": "33ebc66c",
   "metadata": {},
   "outputs": [
    {
     "name": "stdout",
     "output_type": "stream",
     "text": [
      "Podana wartość to: TEST 246\n"
     ]
    }
   ],
   "source": [
    "x = input()\n",
    "\n",
    "print(f\"Podana wartość to: {x}\")"
   ]
  },
  {
   "cell_type": "code",
   "execution_count": 9,
   "id": "e16ca1f2",
   "metadata": {},
   "outputs": [
    {
     "name": "stdout",
     "output_type": "stream",
     "text": [
      "Masz 26 lat\n"
     ]
    }
   ],
   "source": [
    "wiek = input(\"Podaj swój wiek: \")\n",
    "\n",
    "print(f\"Masz {wiek} lat\")"
   ]
  },
  {
   "cell_type": "code",
   "execution_count": 10,
   "id": "1c72fae8",
   "metadata": {},
   "outputs": [
    {
     "name": "stdout",
     "output_type": "stream",
     "text": [
      "Typ zmiennej wiek to: <class 'str'>\n"
     ]
    }
   ],
   "source": [
    "print(f\"Typ zmiennej wiek to: {type(wiek)}\")"
   ]
  },
  {
   "cell_type": "code",
   "execution_count": 13,
   "id": "7ecbf649",
   "metadata": {},
   "outputs": [
    {
     "name": "stdout",
     "output_type": "stream",
     "text": [
      "Masz 26 lat\n",
      "Typ zmiennej wiek to: <class 'int'>\n"
     ]
    }
   ],
   "source": [
    "wiek = int(input(\"Podaj swój wiek: \"))\n",
    "\n",
    "print(f\"Masz {wiek} lat\")\n",
    "print(f\"Typ zmiennej wiek to: {type(wiek)}\")"
   ]
  },
  {
   "cell_type": "markdown",
   "id": "284b04f4",
   "metadata": {},
   "source": [
    "## Operacje matematyczne"
   ]
  },
  {
   "cell_type": "code",
   "execution_count": 14,
   "id": "254663cb",
   "metadata": {},
   "outputs": [
    {
     "name": "stdout",
     "output_type": "stream",
     "text": [
      "10\n",
      "17\n",
      "-10\n",
      "3\n",
      "70\n",
      "1.4285714285714286\n",
      "10.0\n",
      "3\n",
      "1\n"
     ]
    }
   ],
   "source": [
    "a = 10\n",
    "b = 7\n",
    "\n",
    "print(+a)\n",
    "print(a + b)\n",
    "\n",
    "print(-a)\n",
    "print(a - b)\n",
    "\n",
    "print(a * b)\n",
    "\n",
    "print(a / b)\n",
    "print(10 / 1)\n",
    "\n",
    "print(a % b)\n",
    "\n",
    "print(a // b)"
   ]
  },
  {
   "cell_type": "code",
   "execution_count": 15,
   "id": "1da02cc0",
   "metadata": {},
   "outputs": [
    {
     "name": "stdout",
     "output_type": "stream",
     "text": [
      "5\n",
      "7\n",
      "2\n",
      "8\n",
      "4.0\n",
      "0\n",
      "3\n",
      "64.0\n"
     ]
    }
   ],
   "source": [
    "a = 3\n",
    "b = 4\n",
    "\n",
    "a = a + 2\n",
    "print(a)\n",
    "\n",
    "a += 2\n",
    "print(a)\n",
    "\n",
    "a -= 5\n",
    "print(a)\n",
    "\n",
    "b *= a\n",
    "print(b)\n",
    "\n",
    "b /= 2\n",
    "print(b)\n",
    "\n",
    "a %= 2\n",
    "print(a)\n",
    "\n",
    "a = 7\n",
    "a //= 2\n",
    "print(a)\n",
    "\n",
    "b **= a\n",
    "print(b)\n"
   ]
  },
  {
   "cell_type": "code",
   "execution_count": 16,
   "id": "9fb0d389",
   "metadata": {},
   "outputs": [
    {
     "name": "stdout",
     "output_type": "stream",
     "text": [
      "2\n",
      "1\n",
      "0\n",
      "3\n"
     ]
    }
   ],
   "source": [
    "print(True + True)\n",
    "print(False + True)\n",
    "print(False + False)\n",
    "print(3*True)"
   ]
  },
  {
   "cell_type": "code",
   "execution_count": 17,
   "id": "44ae5ddb",
   "metadata": {},
   "outputs": [
    {
     "name": "stdout",
     "output_type": "stream",
     "text": [
      "nowy tekst\n"
     ]
    }
   ],
   "source": [
    "tekst = 'tekst'\n",
    "nowy_tekst = 'nowy '\n",
    "nowy_tekst += tekst\n",
    "print(nowy_tekst)"
   ]
  },
  {
   "cell_type": "code",
   "execution_count": 18,
   "id": "501c227b",
   "metadata": {},
   "outputs": [
    {
     "name": "stdout",
     "output_type": "stream",
     "text": [
      "Wynik mnożenia 10 przez 25 to 250\n",
      "Wynik dodawania 10 i 25 to 35\n"
     ]
    }
   ],
   "source": [
    "n = 10\n",
    "m = 25\n",
    "\n",
    "print('Wynik mnożenia', n, 'przez', m, 'to', n*m)\n",
    "\n",
    "print(f'Wynik dodawania {n} i {m} to {n+m}')"
   ]
  },
  {
   "cell_type": "markdown",
   "id": "45618668",
   "metadata": {},
   "source": [
    "## Funkcje wbudowane"
   ]
  },
  {
   "cell_type": "code",
   "execution_count": 19,
   "id": "576e9c0b",
   "metadata": {},
   "outputs": [
    {
     "name": "stdout",
     "output_type": "stream",
     "text": [
      "10\n",
      "8\n",
      "-5\n",
      "4\n",
      "12\n"
     ]
    }
   ],
   "source": [
    "# MATEMATYCZNE\n",
    "print(abs(-10))\n",
    "print(max(1, 2, 3, 2, 8, -5))\n",
    "print(min(1, 2, 3, 2, 8, -5))\n",
    "print(round(3.5644))\n",
    "\n",
    "# ITEROWALNE\n",
    "print(len('Hello World!'))"
   ]
  }
 ],
 "metadata": {
  "kernelspec": {
   "display_name": "Python 3",
   "language": "python",
   "name": "python3"
  },
  "language_info": {
   "codemirror_mode": {
    "name": "ipython",
    "version": 3
   },
   "file_extension": ".py",
   "mimetype": "text/x-python",
   "name": "python",
   "nbconvert_exporter": "python",
   "pygments_lexer": "ipython3",
   "version": "3.13.3"
  }
 },
 "nbformat": 4,
 "nbformat_minor": 5
}
