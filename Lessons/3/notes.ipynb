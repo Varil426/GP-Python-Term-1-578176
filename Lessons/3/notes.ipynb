{
 "cells": [
  {
   "cell_type": "markdown",
   "id": "8769e16b",
   "metadata": {},
   "source": [
    "# Operacja i Funkcje Matematyczne\n",
    "\n",
    "## Pobieranie wartości od użytkownika"
   ]
  },
  {
   "cell_type": "code",
   "execution_count": null,
   "id": "4ef04591",
   "metadata": {},
   "outputs": [],
   "source": [
    "input()"
   ]
  },
  {
   "cell_type": "code",
   "execution_count": null,
   "id": "33ebc66c",
   "metadata": {},
   "outputs": [],
   "source": [
    "x = input()\n",
    "\n",
    "print(f\"Podana wartość to: {x}\")"
   ]
  },
  {
   "cell_type": "code",
   "execution_count": null,
   "id": "e16ca1f2",
   "metadata": {},
   "outputs": [],
   "source": [
    "wiek = input(\"Podaj swój wiek: \")\n",
    "\n",
    "print(f\"Masz {wiek} lat\")"
   ]
  },
  {
   "cell_type": "code",
   "execution_count": null,
   "id": "1c72fae8",
   "metadata": {},
   "outputs": [],
   "source": [
    "print(f\"Typ zmiennej wiek to: {type(wiek)}\")"
   ]
  },
  {
   "cell_type": "code",
   "execution_count": null,
   "id": "7ecbf649",
   "metadata": {},
   "outputs": [],
   "source": [
    "wiek = int(input(\"Podaj swój wiek: \"))\n",
    "\n",
    "print(f\"Masz {wiek} lat\")\n",
    "print(f\"Typ zmiennej wiek to: {type(wiek)}\")"
   ]
  },
  {
   "cell_type": "markdown",
   "id": "284b04f4",
   "metadata": {},
   "source": [
    "## Operacje matematyczne"
   ]
  },
  {
   "cell_type": "code",
   "execution_count": null,
   "id": "254663cb",
   "metadata": {},
   "outputs": [],
   "source": [
    "a = 10\n",
    "b = 7\n",
    "\n",
    "print(+a)\n",
    "print(a + b)\n",
    "\n",
    "print(-a)\n",
    "print(a - b)\n",
    "\n",
    "print(a * b)\n",
    "\n",
    "print(a / b)\n",
    "print(10 / 1)\n",
    "\n",
    "print(a % b)\n",
    "\n",
    "print(a // b)"
   ]
  },
  {
   "cell_type": "code",
   "execution_count": null,
   "id": "1da02cc0",
   "metadata": {},
   "outputs": [],
   "source": [
    "a = 3\n",
    "b = 4\n",
    "\n",
    "a = a + 2\n",
    "print(a)\n",
    "\n",
    "a += 2\n",
    "print(a)\n",
    "\n",
    "a -= 5\n",
    "print(a)\n",
    "\n",
    "b *= a\n",
    "print(b)\n",
    "\n",
    "b /= 2\n",
    "print(b)\n",
    "\n",
    "a %= 2\n",
    "print(a)\n",
    "\n",
    "a = 7\n",
    "a //= 2\n",
    "print(a)\n",
    "\n",
    "b **= a\n",
    "print(b)\n"
   ]
  },
  {
   "cell_type": "code",
   "execution_count": null,
   "id": "9fb0d389",
   "metadata": {},
   "outputs": [],
   "source": [
    "print(True + True)\n",
    "print(False + True)\n",
    "print(False + False)\n",
    "print(3*True)"
   ]
  },
  {
   "cell_type": "code",
   "execution_count": null,
   "id": "44ae5ddb",
   "metadata": {},
   "outputs": [],
   "source": [
    "tekst = 'tekst'\n",
    "nowy_tekst = 'nowy '\n",
    "nowy_tekst += tekst\n",
    "print(nowy_tekst)"
   ]
  },
  {
   "cell_type": "code",
   "execution_count": null,
   "id": "501c227b",
   "metadata": {},
   "outputs": [],
   "source": [
    "n = 10\n",
    "m = 25\n",
    "\n",
    "print('Wynik mnożenia', n, 'przez', m, 'to', n*m)\n",
    "\n",
    "print(f'Wynik dodawania {n} i {m} to {n+m}')"
   ]
  },
  {
   "cell_type": "markdown",
   "id": "45618668",
   "metadata": {},
   "source": [
    "## Funkcje wbudowane"
   ]
  },
  {
   "cell_type": "code",
   "execution_count": null,
   "id": "576e9c0b",
   "metadata": {},
   "outputs": [],
   "source": [
    "# MATEMATYCZNE\n",
    "print(abs(-10))\n",
    "print(max(1, 2, 3, 2, 8, -5))\n",
    "print(min(1, 2, 3, 2, 8, -5))\n",
    "print(round(3.5644))\n",
    "\n",
    "# ITEROWALNE\n",
    "print(len('Hello World!'))"
   ]
  }
 ],
 "metadata": {
  "kernelspec": {
   "display_name": "Python 3",
   "language": "python",
   "name": "python3"
  },
  "language_info": {
   "codemirror_mode": {
    "name": "ipython",
    "version": 3
   },
   "file_extension": ".py",
   "mimetype": "text/x-python",
   "name": "python",
   "nbconvert_exporter": "python",
   "pygments_lexer": "ipython3",
   "version": "3.12.1"
  }
 },
 "nbformat": 4,
 "nbformat_minor": 5
}
